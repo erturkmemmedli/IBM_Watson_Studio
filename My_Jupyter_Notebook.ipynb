{
    "cells": [
        {
            "metadata": {
                "collapsed": true
            },
            "cell_type": "markdown",
            "source": "# My Jupyter Notebook on IBM Watson Studio"
        },
        {
            "metadata": {},
            "cell_type": "markdown",
            "source": "#### Arturk Mammadli"
        },
        {
            "metadata": {},
            "cell_type": "markdown",
            "source": "_I am interested in data science because current age is Information Age and data is power._"
        },
        {
            "metadata": {},
            "cell_type": "markdown",
            "source": "### The following code calculates n-th term of Fibonacci numbers"
        },
        {
            "metadata": {},
            "cell_type": "code",
            "source": "n = int(input())\n\nif n<=1:\n    print(n)  \n    quit()\n\ndef fibonacci(n):\n    a, b = 0, 1\n    for _ in range(n-1):\n        c = a + b\n        b, a = c, b\n    if n % 10 == 1 and n != 11:\n        print(f'{n}st Fibonacci number is {c}')\n    elif n % 10 == 2 and n != 12:\n        print(f'{n}nd Fibonacci number is {c}')\n    elif n % 10 == 3 and n != 13:\n        print(f'{n}rd Fibonacci number is {c}')\n    else:\n        print(f'{n}th Fibonacci number is {c}')\n        \nfibonacci(n)",
            "execution_count": 17,
            "outputs": [
                {
                    "output_type": "stream",
                    "name": "stdout",
                    "text": "22\n22nd Fibonacci number is 17711\n"
                }
            ]
        },
        {
            "metadata": {},
            "cell_type": "markdown",
            "source": "![alt text](https://github.com/adam-p/markdown-here/raw/master/src/common/images/icon48.png \"Logo Title Text 1\")\n\n- Lagrange\n- Fourier\n- Laplace\n- Euler\n\n| Prize     | Field     | Name        | Year   |\n| ---------:| ---------:| -----------:| ------:|\n| Nobel     | Physics   | Einstein    | 1921   |\n"
        },
        {
            "metadata": {},
            "cell_type": "code",
            "source": "",
            "execution_count": null,
            "outputs": []
        }
    ],
    "metadata": {
        "kernelspec": {
            "name": "python3",
            "display_name": "Python 3.7",
            "language": "python"
        },
        "language_info": {
            "name": "python",
            "version": "3.7.9",
            "mimetype": "text/x-python",
            "codemirror_mode": {
                "name": "ipython",
                "version": 3
            },
            "pygments_lexer": "ipython3",
            "nbconvert_exporter": "python",
            "file_extension": ".py"
        }
    },
    "nbformat": 4,
    "nbformat_minor": 1
}